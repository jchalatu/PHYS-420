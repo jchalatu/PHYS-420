{
 "cells": [
  {
   "cell_type": "markdown",
   "metadata": {},
   "source": [
    "# PHYS 420 Assigment 1"
   ]
  },
  {
   "cell_type": "code",
   "execution_count": null,
   "metadata": {},
   "outputs": [],
   "source": [
    "import numpy as np\n",
    "import matplotlib.pyplot as plt\n",
    "from numpy import *\n",
    "from IPython.display import display, Math, Latex, Markdown"
   ]
  },
  {
   "cell_type": "markdown",
   "metadata": {},
   "source": [
    "### <u>Q1</u>: Plotting sine and cosine"
   ]
  },
  {
   "cell_type": "code",
   "execution_count": null,
   "metadata": {},
   "outputs": [],
   "source": [
    "x = np.linspace(0,2*pi,100)\n",
    "y1 = cos(x)\n",
    "y2 = sin(x)\n",
    "font_size = 18\n",
    "\n",
    "plt.figure(1,figsize = (9,5))\n",
    "plt.plot(x,y1,'m.')\n",
    "plt.xlabel('x',fontsize = font_size)\n",
    "plt.ylabel('cos(x)',fontsize = font_size)\n",
    "\n",
    "plt.figure(2,figsize = (9,5))\n",
    "plt.plot(x,y2,'m.')\n",
    "plt.xlabel('x',fontsize = font_size)\n",
    "plt.ylabel('sin(x)',fontsize = font_size)\n",
    "plt.show()"
   ]
  },
  {
   "cell_type": "markdown",
   "metadata": {},
   "source": [
    "### <u>Q2</u>: Numerical derivative of f(x) = x + 3sin(x)"
   ]
  },
  {
   "cell_type": "code",
   "execution_count": null,
   "metadata": {},
   "outputs": [],
   "source": [
    "def deriv(fx,fx_h,h):\n",
    "    dx = (fx_h-fx)/h\n",
    "    return dx\n",
    "\n",
    "def func(x):\n",
    "    return x + 3.0*sin(x)\n",
    "\n",
    "def analytic(x):\n",
    "    return 1.0 + 3.0*cos(x)"
   ]
  },
  {
   "cell_type": "code",
   "execution_count": null,
   "metadata": {
    "scrolled": false
   },
   "outputs": [],
   "source": [
    "powers = np.arange(-1,-14,-2)\n",
    "fx = func(x)\n",
    "fig_num = 1\n",
    "for n in powers:\n",
    "    h = 10.**n\n",
    "    fx_h = func(x+h)\n",
    "    dfdx = deriv(fx,fx_h,h)\n",
    "    diff = dfdx - analytic(x)\n",
    "    sum_sqrs = np.sum(diff**2.)\n",
    "    displ_h = '**h: %1.e**'%(h)\n",
    "    displ_sum = '**Sum of Squares: %.5e**'%(sum_sqrs)\n",
    "    display(Markdown(displ_h))\n",
    "    display(Markdown(displ_sum))\n",
    "    plt.figure(fig_num,figsize = (9,5))\n",
    "    plt.plot(x,dfdx,'b.',label = 'Numerical')\n",
    "    plt.plot(x,analytic(x),'r.', label = 'Analytic')\n",
    "    plt.legend(loc ='best',fontsize = 14)\n",
    "    plt.xlabel('x',fontsize = font_size)\n",
    "    plt.ylabel(r\"$f^{ \\ '}(x)$\", fontsize = font_size)\n",
    "    plt.title(\"First Derivative\")\n",
    "    plt.show()\n",
    "    plt.figure(fig_num+1,figsize = (9,5))\n",
    "    plt.plot(x,diff,'m.')\n",
    "    plt.xlabel('x',fontsize = font_size)\n",
    "    plt.ylabel(r\"$f^{ \\ '}(x) - 1 -3\\rm{cos}(x)$\", fontsize = font_size)\n",
    "    plt.title(\"Difference between Numerical and Analytical Deriv.\")\n",
    "    plt.show()\n",
    "\n"
   ]
  },
  {
   "cell_type": "markdown",
   "metadata": {},
   "source": [
    "### <u>Q3</u>: Symmetric derivative of f(x) = x + 3sin(x)"
   ]
  },
  {
   "cell_type": "code",
   "execution_count": null,
   "metadata": {},
   "outputs": [],
   "source": [
    "def sym_deriv(fx_p,fx_n,h):\n",
    "    dx = (fx_p-fx_n)/(2.*h)\n",
    "    return dx"
   ]
  },
  {
   "cell_type": "code",
   "execution_count": null,
   "metadata": {
    "scrolled": false
   },
   "outputs": [],
   "source": [
    "fig_num = 1\n",
    "for n in powers:\n",
    "    h = 10.**n\n",
    "    fx_p = func(x+h)\n",
    "    fx_n = func(x-h)\n",
    "    dfdx = sym_deriv(fx_p,fx_n,h)\n",
    "    diff = dfdx - analytic(x)\n",
    "    sum_sqrs = np.sum(diff**2)\n",
    "    displ_h = '**h: %1.e**'%(h)\n",
    "    displ_sum = '**Sum of Squares: %.5e**'%(sum_sqrs)\n",
    "    display(Markdown(displ_h))\n",
    "    display(Markdown(displ_sum))\n",
    "    plt.figure(fig_num,figsize = (9,5))\n",
    "    plt.plot(x,dfdx,'b.',label = 'Numerical')\n",
    "    plt.plot(x,analytic(x),'r.', label = 'Analytic')\n",
    "    plt.legend(loc ='best',fontsize = 14)\n",
    "    plt.xlabel('x',fontsize = font_size)\n",
    "    plt.ylabel(r\"$f^{ \\ '}(x)$\", fontsize = font_size)\n",
    "    plt.title(\"First Derivative\")\n",
    "    plt.show()\n",
    "    plt.figure(fig_num+1,figsize = (9,5))\n",
    "    plt.plot(x,diff,'m.')\n",
    "    plt.xlabel('x',fontsize = font_size)\n",
    "    plt.ylabel(r\"$f^{ \\ '}(x) - 1 -3\\rm{cos}(x)$\", fontsize = font_size)\n",
    "    plt.title(\"Difference between Numerical and Analytical Deriv.\")\n",
    "    plt.show()"
   ]
  },
  {
   "cell_type": "markdown",
   "metadata": {},
   "source": [
    "### <u>Q4</u>"
   ]
  },
  {
   "cell_type": "code",
   "execution_count": null,
   "metadata": {},
   "outputs": [],
   "source": [
    "def sym_deriv2(fx_p,fx_n,x1,x2):\n",
    "    dx = (fx_p-fx_n)/(x2-x1)\n",
    "    return dx"
   ]
  },
  {
   "cell_type": "code",
   "execution_count": null,
   "metadata": {
    "scrolled": false
   },
   "outputs": [],
   "source": [
    "fig_num = 1\n",
    "for n in powers:\n",
    "    h = 10.**n\n",
    "    x1 = x-h\n",
    "    x2 = x+h\n",
    "    fx_p = func(x2)\n",
    "    fx_n = func(x1)\n",
    "    dfdx = sym_deriv2(fx_p,fx_n,x1,x2)\n",
    "    diff = dfdx - analytic(x)\n",
    "    sum_sqrs = np.sum(diff**2)\n",
    "    displ_h = '**h: %.3e**'%(h)\n",
    "    displ_sum = '**Sum of Squares: %.5e**'%(sum_sqrs)\n",
    "    display(Markdown(displ_h))\n",
    "    display(Markdown(displ_sum))\n",
    "    plt.figure(fig_num,figsize = (9,5))\n",
    "    plt.plot(x,dfdx,'b.',label = 'Numerical')\n",
    "    plt.plot(x,analytic(x),'r.', label = 'Analytic')\n",
    "    plt.xlabel('x',fontsize = font_size)\n",
    "    plt.ylabel(r\"$f^{ \\ '}(x)$\", fontsize = font_size)\n",
    "    plt.legend(loc ='best',fontsize = 14)\n",
    "    plt.title(\"First Derivative\")\n",
    "    plt.show()\n",
    "    plt.figure(fig_num+1,figsize = (9,5))\n",
    "    plt.plot(x,diff,'m.')\n",
    "    plt.xlabel('x',fontsize = font_size)\n",
    "    plt.ylabel(r\"$f^{ \\ '}(x) - 1 -3\\rm{cos}(x)$\", fontsize = font_size)\n",
    "    plt.title(\"Difference between Numerical and Analytical Deriv.\")\n",
    "    plt.show()"
   ]
  },
  {
   "cell_type": "markdown",
   "metadata": {},
   "source": [
    "### <u>Q5</u>: Comparing analytical derivative to numerical"
   ]
  },
  {
   "cell_type": "code",
   "execution_count": null,
   "metadata": {},
   "outputs": [],
   "source": [
    "def func(x):\n",
    "    return 1e15 + x + 3*sin(x)\n",
    "\n",
    "f = func(x)\n",
    "p = np.arange(-1,-6,-1)\n",
    "\n",
    "for i in range(0,len(p)):\n",
    "    h = 10**(float(p[i]))\n",
    "    f_h = func(x+h)\n",
    "    dfdx = deriv(f,f_h,h)\n",
    "    dfdx_analytical = 1 + 3*cos(x)\n",
    "    plt.figure(1,figsize = (7,5))\n",
    "    plt.plot(x,dfdx,'b-',label = 'Numerical Derivative')\n",
    "    plt.plot(x,dfdx_analytical,'m-',label = 'Analytical Derivative')\n",
    "    plt.xlabel('x',fontsize = font_size)\n",
    "    plt.ylabel(r\"$f^{ \\ '}(x)$\",fontsize = font_size)\n",
    "    plt.legend(loc = 'best')\n",
    "    string = 'h = %.1e'%h\n",
    "    plt.text(pi-1,3,string)\n",
    "    plt.show()"
   ]
  },
  {
   "cell_type": "markdown",
   "metadata": {},
   "source": [
    "For the function $f(x) = 10^{15} + x + 3\\sin(x)$, it becomes difficult to compute the derivative numerically because of the $10^{15}$ term. When $h$ is too small ($ h < 10^3$) the numerical derivative becomes 0 always. "
   ]
  }
 ],
 "metadata": {
  "kernelspec": {
   "display_name": "Python 3",
   "language": "python",
   "name": "python3"
  },
  "language_info": {
   "codemirror_mode": {
    "name": "ipython",
    "version": 3
   },
   "file_extension": ".py",
   "mimetype": "text/x-python",
   "name": "python",
   "nbconvert_exporter": "python",
   "pygments_lexer": "ipython3",
   "version": "3.6.5"
  }
 },
 "nbformat": 4,
 "nbformat_minor": 2
}
